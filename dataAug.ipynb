{
  "nbformat": 4,
  "nbformat_minor": 0,
  "metadata": {
    "colab": {
      "provenance": []
    },
    "kernelspec": {
      "name": "python3",
      "display_name": "Python 3"
    },
    "language_info": {
      "name": "python"
    },
    "accelerator": "GPU",
    "gpuClass": "standard"
  },
  "cells": [
    {
      "cell_type": "code",
      "execution_count": 2,
      "metadata": {
        "id": "O12GLWzVH19z"
      },
      "outputs": [],
      "source": [
        "import torch\n",
        "import torch.nn as nn\n",
        "import torch.optim as optim\n",
        "import torch.nn.functional as F\n",
        "from torch.utils.data import DataLoader \n",
        "from torch.utils.data import random_split\n",
        "from torchvision import datasets \n",
        "from torchvision import transforms \n",
        "from torch.utils.data import Dataset\n",
        "import glob\n",
        "from PIL import Image # Image.open(path)\n",
        "import cv2\n",
        "import pandas as pd\n",
        "import albumentations as A # trochvision transforms 보다 빠름(label도 같이 변환가능)\n",
        "from albumentations.pytorch import ToTensorV2\n",
        "from sklearn.model_selection import train_test_split\n",
        "from torch.utils.data import Subset\n",
        "import torchvision.models as models\n",
        "from copy import deepcopy\n",
        "import numpy as np\n",
        "import pandas as pd\n",
        "import matplotlib.pyplot as plt"
      ]
    },
    {
      "cell_type": "code",
      "source": [
        "!pip install kaggle\n",
        "from google.colab import files\n",
        "files.upload() \n",
        "\n",
        "!mkdir -p ~/.kaggle\n",
        "!cp kaggle.json ~/.kaggle/\n",
        "!chmod 600 ~/.kaggle/kaggle.json\n",
        "\n",
        "!kaggle datasets download -d ammaralfaifi/5class-weather-status-image-classification\n",
        "!unzip -q 5class-weather-status-image-classification.zip -d weather"
      ],
      "metadata": {
        "colab": {
          "base_uri": "https://localhost:8080/",
          "height": 362
        },
        "id": "wwSghqU6IY0j",
        "outputId": "66d46e14-5825-42e7-de41-c4d35c0cd053"
      },
      "execution_count": 7,
      "outputs": [
        {
          "output_type": "stream",
          "name": "stdout",
          "text": [
            "Looking in indexes: https://pypi.org/simple, https://us-python.pkg.dev/colab-wheels/public/simple/\n",
            "Requirement already satisfied: kaggle in /usr/local/lib/python3.9/dist-packages (1.5.13)\n",
            "Requirement already satisfied: urllib3 in /usr/local/lib/python3.9/dist-packages (from kaggle) (1.26.15)\n",
            "Requirement already satisfied: requests in /usr/local/lib/python3.9/dist-packages (from kaggle) (2.27.1)\n",
            "Requirement already satisfied: six>=1.10 in /usr/local/lib/python3.9/dist-packages (from kaggle) (1.16.0)\n",
            "Requirement already satisfied: tqdm in /usr/local/lib/python3.9/dist-packages (from kaggle) (4.65.0)\n",
            "Requirement already satisfied: python-slugify in /usr/local/lib/python3.9/dist-packages (from kaggle) (8.0.1)\n",
            "Requirement already satisfied: python-dateutil in /usr/local/lib/python3.9/dist-packages (from kaggle) (2.8.2)\n",
            "Requirement already satisfied: certifi in /usr/local/lib/python3.9/dist-packages (from kaggle) (2022.12.7)\n",
            "Requirement already satisfied: text-unidecode>=1.3 in /usr/local/lib/python3.9/dist-packages (from python-slugify->kaggle) (1.3)\n",
            "Requirement already satisfied: charset-normalizer~=2.0.0 in /usr/local/lib/python3.9/dist-packages (from requests->kaggle) (2.0.12)\n",
            "Requirement already satisfied: idna<4,>=2.5 in /usr/local/lib/python3.9/dist-packages (from requests->kaggle) (3.4)\n"
          ]
        },
        {
          "output_type": "display_data",
          "data": {
            "text/plain": [
              "<IPython.core.display.HTML object>"
            ],
            "text/html": [
              "\n",
              "     <input type=\"file\" id=\"files-bd158a24-698a-4f04-92f2-a44b1d8e2ce4\" name=\"files[]\" multiple disabled\n",
              "        style=\"border:none\" />\n",
              "     <output id=\"result-bd158a24-698a-4f04-92f2-a44b1d8e2ce4\">\n",
              "      Upload widget is only available when the cell has been executed in the\n",
              "      current browser session. Please rerun this cell to enable.\n",
              "      </output>\n",
              "      <script>// Copyright 2017 Google LLC\n",
              "//\n",
              "// Licensed under the Apache License, Version 2.0 (the \"License\");\n",
              "// you may not use this file except in compliance with the License.\n",
              "// You may obtain a copy of the License at\n",
              "//\n",
              "//      http://www.apache.org/licenses/LICENSE-2.0\n",
              "//\n",
              "// Unless required by applicable law or agreed to in writing, software\n",
              "// distributed under the License is distributed on an \"AS IS\" BASIS,\n",
              "// WITHOUT WARRANTIES OR CONDITIONS OF ANY KIND, either express or implied.\n",
              "// See the License for the specific language governing permissions and\n",
              "// limitations under the License.\n",
              "\n",
              "/**\n",
              " * @fileoverview Helpers for google.colab Python module.\n",
              " */\n",
              "(function(scope) {\n",
              "function span(text, styleAttributes = {}) {\n",
              "  const element = document.createElement('span');\n",
              "  element.textContent = text;\n",
              "  for (const key of Object.keys(styleAttributes)) {\n",
              "    element.style[key] = styleAttributes[key];\n",
              "  }\n",
              "  return element;\n",
              "}\n",
              "\n",
              "// Max number of bytes which will be uploaded at a time.\n",
              "const MAX_PAYLOAD_SIZE = 100 * 1024;\n",
              "\n",
              "function _uploadFiles(inputId, outputId) {\n",
              "  const steps = uploadFilesStep(inputId, outputId);\n",
              "  const outputElement = document.getElementById(outputId);\n",
              "  // Cache steps on the outputElement to make it available for the next call\n",
              "  // to uploadFilesContinue from Python.\n",
              "  outputElement.steps = steps;\n",
              "\n",
              "  return _uploadFilesContinue(outputId);\n",
              "}\n",
              "\n",
              "// This is roughly an async generator (not supported in the browser yet),\n",
              "// where there are multiple asynchronous steps and the Python side is going\n",
              "// to poll for completion of each step.\n",
              "// This uses a Promise to block the python side on completion of each step,\n",
              "// then passes the result of the previous step as the input to the next step.\n",
              "function _uploadFilesContinue(outputId) {\n",
              "  const outputElement = document.getElementById(outputId);\n",
              "  const steps = outputElement.steps;\n",
              "\n",
              "  const next = steps.next(outputElement.lastPromiseValue);\n",
              "  return Promise.resolve(next.value.promise).then((value) => {\n",
              "    // Cache the last promise value to make it available to the next\n",
              "    // step of the generator.\n",
              "    outputElement.lastPromiseValue = value;\n",
              "    return next.value.response;\n",
              "  });\n",
              "}\n",
              "\n",
              "/**\n",
              " * Generator function which is called between each async step of the upload\n",
              " * process.\n",
              " * @param {string} inputId Element ID of the input file picker element.\n",
              " * @param {string} outputId Element ID of the output display.\n",
              " * @return {!Iterable<!Object>} Iterable of next steps.\n",
              " */\n",
              "function* uploadFilesStep(inputId, outputId) {\n",
              "  const inputElement = document.getElementById(inputId);\n",
              "  inputElement.disabled = false;\n",
              "\n",
              "  const outputElement = document.getElementById(outputId);\n",
              "  outputElement.innerHTML = '';\n",
              "\n",
              "  const pickedPromise = new Promise((resolve) => {\n",
              "    inputElement.addEventListener('change', (e) => {\n",
              "      resolve(e.target.files);\n",
              "    });\n",
              "  });\n",
              "\n",
              "  const cancel = document.createElement('button');\n",
              "  inputElement.parentElement.appendChild(cancel);\n",
              "  cancel.textContent = 'Cancel upload';\n",
              "  const cancelPromise = new Promise((resolve) => {\n",
              "    cancel.onclick = () => {\n",
              "      resolve(null);\n",
              "    };\n",
              "  });\n",
              "\n",
              "  // Wait for the user to pick the files.\n",
              "  const files = yield {\n",
              "    promise: Promise.race([pickedPromise, cancelPromise]),\n",
              "    response: {\n",
              "      action: 'starting',\n",
              "    }\n",
              "  };\n",
              "\n",
              "  cancel.remove();\n",
              "\n",
              "  // Disable the input element since further picks are not allowed.\n",
              "  inputElement.disabled = true;\n",
              "\n",
              "  if (!files) {\n",
              "    return {\n",
              "      response: {\n",
              "        action: 'complete',\n",
              "      }\n",
              "    };\n",
              "  }\n",
              "\n",
              "  for (const file of files) {\n",
              "    const li = document.createElement('li');\n",
              "    li.append(span(file.name, {fontWeight: 'bold'}));\n",
              "    li.append(span(\n",
              "        `(${file.type || 'n/a'}) - ${file.size} bytes, ` +\n",
              "        `last modified: ${\n",
              "            file.lastModifiedDate ? file.lastModifiedDate.toLocaleDateString() :\n",
              "                                    'n/a'} - `));\n",
              "    const percent = span('0% done');\n",
              "    li.appendChild(percent);\n",
              "\n",
              "    outputElement.appendChild(li);\n",
              "\n",
              "    const fileDataPromise = new Promise((resolve) => {\n",
              "      const reader = new FileReader();\n",
              "      reader.onload = (e) => {\n",
              "        resolve(e.target.result);\n",
              "      };\n",
              "      reader.readAsArrayBuffer(file);\n",
              "    });\n",
              "    // Wait for the data to be ready.\n",
              "    let fileData = yield {\n",
              "      promise: fileDataPromise,\n",
              "      response: {\n",
              "        action: 'continue',\n",
              "      }\n",
              "    };\n",
              "\n",
              "    // Use a chunked sending to avoid message size limits. See b/62115660.\n",
              "    let position = 0;\n",
              "    do {\n",
              "      const length = Math.min(fileData.byteLength - position, MAX_PAYLOAD_SIZE);\n",
              "      const chunk = new Uint8Array(fileData, position, length);\n",
              "      position += length;\n",
              "\n",
              "      const base64 = btoa(String.fromCharCode.apply(null, chunk));\n",
              "      yield {\n",
              "        response: {\n",
              "          action: 'append',\n",
              "          file: file.name,\n",
              "          data: base64,\n",
              "        },\n",
              "      };\n",
              "\n",
              "      let percentDone = fileData.byteLength === 0 ?\n",
              "          100 :\n",
              "          Math.round((position / fileData.byteLength) * 100);\n",
              "      percent.textContent = `${percentDone}% done`;\n",
              "\n",
              "    } while (position < fileData.byteLength);\n",
              "  }\n",
              "\n",
              "  // All done.\n",
              "  yield {\n",
              "    response: {\n",
              "      action: 'complete',\n",
              "    }\n",
              "  };\n",
              "}\n",
              "\n",
              "scope.google = scope.google || {};\n",
              "scope.google.colab = scope.google.colab || {};\n",
              "scope.google.colab._files = {\n",
              "  _uploadFiles,\n",
              "  _uploadFilesContinue,\n",
              "};\n",
              "})(self);\n",
              "</script> "
            ]
          },
          "metadata": {}
        },
        {
          "output_type": "stream",
          "name": "stdout",
          "text": [
            "Saving kaggle.json to kaggle.json\n",
            "Downloading 5class-weather-status-image-classification.zip to /content\n",
            " 98% 487M/498M [00:04<00:00, 160MB/s]\n",
            "100% 498M/498M [00:04<00:00, 128MB/s]\n"
          ]
        }
      ]
    },
    {
      "cell_type": "code",
      "source": [
        "class mySplitFP():\n",
        "    def __init__(self, root, labels_map):\n",
        "        self.root, self.labels_map = root, labels_map\n",
        "        self.dfs = None\n",
        "        \n",
        "    def __call__(self):\n",
        "        return self.split_join_dfs()\n",
        "        \n",
        "    def create_dfs(self):\n",
        "        cloudy_df = pd.DataFrame(data={'filepath':glob.glob(self.root+self.labels_map[0]+'/*.*'), 'label':0})\n",
        "        foggy_df = pd.DataFrame(data={'filepath':glob.glob(self.root+self.labels_map[1]+'/*.*'), 'label':1})\n",
        "        rainy_df = pd.DataFrame(data={'filepath':glob.glob(self.root+self.labels_map[2]+'/*.*'), 'label':2})\n",
        "        snowy_df = pd.DataFrame(data={'filepath':glob.glob(self.root+self.labels_map[3]+'/*.*'), 'label':3})\n",
        "        sunny_df = pd.DataFrame(data={'filepath':glob.glob(self.root+self.labels_map[4]+'/*.*'), 'label':4})\n",
        "        self.dfs = [cloudy_df, foggy_df, rainy_df, snowy_df, sunny_df]\n",
        "        \n",
        "    def split_join_dfs(self, train_p=0.65, valid_p=0.15, test_p=0.2):\n",
        "        self.create_dfs()\n",
        "        idxs_dict = {'train':[], 'valid':[], 'test':[]}\n",
        "        for df in self.dfs:\n",
        "            train_n, valid_n = len(df)//(1/train_p), len(df)//(1/valid_p)\n",
        "            df['cut'] = pd.cut(df.index, bins=[-np.inf, train_n, train_n+valid_n, np.inf], labels=['train','valid','test'])\n",
        "            for k in idxs_dict.keys():\n",
        "                idxs_dict[k].append(df.loc[df['cut']==k, ['filepath','label']])\n",
        "        for k,v in idxs_dict.items():\n",
        "            if k=='train': train_df = pd.concat(v, axis=0).reset_index()\n",
        "            elif k=='valid': valid_df = pd.concat(v, axis=0).reset_index()\n",
        "            elif k=='test': test_df = pd.concat(v, axis=0).reset_index()\n",
        "        return train_df, valid_df, test_df"
      ],
      "metadata": {
        "id": "gXNRsKz4IjxE"
      },
      "execution_count": 8,
      "outputs": []
    },
    {
      "cell_type": "code",
      "source": [
        "root = './weather/data/'\n",
        "labels_map = {0:'cloudy', 1:'foggy', 2:'rainy', 3:'snowy', 4:'sunny'}\n",
        "train_df, valid_df, test_df = mySplitFP(root, labels_map).__call__()"
      ],
      "metadata": {
        "id": "BeMwVFm7I_CH"
      },
      "execution_count": 9,
      "outputs": []
    },
    {
      "cell_type": "code",
      "source": [
        "transform1 = transforms.Compose([\n",
        "    transforms.Resize((224, 224)),\n",
        "    transforms.RandomRotation(degrees = (0, 90)),\n",
        "    transforms.RandomHorizontalFlip(p=0.3),\n",
        "    transforms.ToTensor()\n",
        "])\n",
        "\n",
        "transform2 = transforms.Compose([\n",
        "    transforms.Resize((224, 224)),\n",
        "    transforms.ToTensor()\n",
        "])"
      ],
      "metadata": {
        "id": "4gCTz87NJoiA"
      },
      "execution_count": 10,
      "outputs": []
    },
    {
      "cell_type": "code",
      "source": [
        "class createDataset(Dataset):\n",
        "    def __init__(self, df, transform1, transform2):\n",
        "        self.df = df\n",
        "        self.transform1 = transform1\n",
        "        self.transform2 = transform2\n",
        "        \n",
        "    def __len__(self):\n",
        "        \n",
        "        return len(self.df)\n",
        "\n",
        "    def __getitem__(self, idx):\n",
        "        img_filepath = self.df['filepath'][idx]\n",
        "        img = Image.open(img_filepath).convert('RGB') # RGB로 통일시켜줌\n",
        "\n",
        "        if self.df['label'][idx] == 1|2|3:\n",
        "            transformed_img = self.transform1(img)\n",
        "        else:\n",
        "            transformed_img = self.transform2(img)\n",
        "\n",
        "        return transformed_img, self.df['label'][idx]"
      ],
      "metadata": {
        "id": "AV1JjHyljnYD"
      },
      "execution_count": 11,
      "outputs": []
    },
    {
      "cell_type": "code",
      "source": [
        "ds1 = createDataset(df = train_df, transform1 = transform1, transform2 = transform2)"
      ],
      "metadata": {
        "id": "pbcX8LovnOFc"
      },
      "execution_count": 12,
      "outputs": []
    },
    {
      "cell_type": "code",
      "source": [
        "ds1.__len__()"
      ],
      "metadata": {
        "colab": {
          "base_uri": "https://localhost:8080/"
        },
        "id": "MmRFvKsFn0-M",
        "outputId": "059b1f04-d092-4808-9897-6ff2ef9fb83c"
      },
      "execution_count": 13,
      "outputs": [
        {
          "output_type": "execute_result",
          "data": {
            "text/plain": [
              "11728"
            ]
          },
          "metadata": {},
          "execution_count": 13
        }
      ]
    },
    {
      "cell_type": "code",
      "source": [
        "ds1.__getitem__(3)[0].shape, ds1.__getitem__(3)[1]"
      ],
      "metadata": {
        "colab": {
          "base_uri": "https://localhost:8080/"
        },
        "id": "9AjKSaJ9ocoO",
        "outputId": "9ef88613-2e0c-4624-9755-f0d79d50243d"
      },
      "execution_count": 14,
      "outputs": [
        {
          "output_type": "execute_result",
          "data": {
            "text/plain": [
              "(torch.Size([3, 224, 224]), 0)"
            ]
          },
          "metadata": {},
          "execution_count": 14
        }
      ]
    },
    {
      "cell_type": "code",
      "source": [
        "trainset =  createDataset(df = train_df, transform1 = transform1, transform2 = transform2)\n",
        "validset =  createDataset(df = valid_df, transform1 = transform1, transform2 = transform2)\n",
        "testset =  createDataset(df = test_df, transform1 = transform1, transform2 = transform2)"
      ],
      "metadata": {
        "id": "rvEoKYoByFDl"
      },
      "execution_count": 15,
      "outputs": []
    },
    {
      "cell_type": "code",
      "source": [
        "batch_size = 16\n",
        "\n",
        "trainloader = DataLoader(trainset, batch_size=batch_size, shuffle=True)\n",
        "validloader = DataLoader(validset, batch_size=batch_size, shuffle=False)\n",
        "testloader = DataLoader(testset, batch_size=batch_size, shuffle=False)"
      ],
      "metadata": {
        "id": "qRotT6pmtqAH"
      },
      "execution_count": 16,
      "outputs": []
    },
    {
      "cell_type": "code",
      "source": [
        "print(type(trainloader), len(trainloader))\n",
        "print(type(validloader), len(validloader))\n",
        "print(type(testloader), len(testloader))"
      ],
      "metadata": {
        "colab": {
          "base_uri": "https://localhost:8080/"
        },
        "id": "0Tk6jvAquNVX",
        "outputId": "fb7b1c94-15f1-43d4-da46-24cdf7123e2e"
      },
      "execution_count": 17,
      "outputs": [
        {
          "output_type": "stream",
          "name": "stdout",
          "text": [
            "<class 'torch.utils.data.dataloader.DataLoader'> 733\n",
            "<class 'torch.utils.data.dataloader.DataLoader'> 170\n",
            "<class 'torch.utils.data.dataloader.DataLoader'> 226\n"
          ]
        }
      ]
    },
    {
      "cell_type": "code",
      "source": [
        "train_iter = iter(trainloader)\n",
        "images, labels = next(train_iter)\n",
        "images.size(), labels.size()"
      ],
      "metadata": {
        "colab": {
          "base_uri": "https://localhost:8080/"
        },
        "id": "1xquX2JjuvAL",
        "outputId": "9c57d365-879e-438e-b303-221beaa99530"
      },
      "execution_count": 18,
      "outputs": [
        {
          "output_type": "execute_result",
          "data": {
            "text/plain": [
              "(torch.Size([16, 3, 224, 224]), torch.Size([16]))"
            ]
          },
          "metadata": {},
          "execution_count": 18
        }
      ]
    },
    {
      "cell_type": "code",
      "source": [
        "import torch.nn as nn # 파이토치에서 제공하는 다양한 계층 (Linear Layer, ....)\n",
        "import torch.optim as optim # 옵티마이저 (경사하강법...)\n",
        "import torch.nn.functional as F # 파이토치에서 제공하는 함수(활성화 함수...)\n",
        "\n",
        "import torchvision.models as models"
      ],
      "metadata": {
        "id": "NraEbCc3uTGK"
      },
      "execution_count": 19,
      "outputs": []
    },
    {
      "cell_type": "code",
      "source": [
        "device = torch.device('cuda' if torch.cuda.is_available() else 'cpu')\n",
        "device"
      ],
      "metadata": {
        "colab": {
          "base_uri": "https://localhost:8080/"
        },
        "id": "1JgLFLyivFjF",
        "outputId": "f441728b-48e9-46d6-d86b-7b4f7d884cc4"
      },
      "execution_count": 20,
      "outputs": [
        {
          "output_type": "execute_result",
          "data": {
            "text/plain": [
              "device(type='cuda')"
            ]
          },
          "metadata": {},
          "execution_count": 20
        }
      ]
    },
    {
      "cell_type": "code",
      "source": [
        "def validate(model, validloader, loss_fn):\n",
        "    total = 0   \n",
        "    correct = 0\n",
        "    valid_loss = 0\n",
        "    valid_accuracy = 0\n",
        "\n",
        "  # 전방향 예측을 구할 때는 gradient가 필요가 없음음\n",
        "    with torch.no_grad():\n",
        "        for images, labels in validloader: # 이터레이터로부터 next()가 호출되며 미니배치를 반환(images, labels)      \n",
        "            # images, labels : (torch.Size([16, 3, 224, 224]), torch.Size([16]))\n",
        "            # 0. Data를 GPU로 보내기\n",
        "            images, labels = images.to(device), labels.to(device)\n",
        "\n",
        "            # 1. 입력 데이터 준비\n",
        "            # not Flatten !!\n",
        "            # images.resize_(images.size()[0], 784)\n",
        "\n",
        "            # 2. 전방향(Forward) 예측\n",
        "            logit = model(images) # 예측 점수\n",
        "            _, preds = torch.max(logit, 1) # 배치에 대한 최종 예측\n",
        "            # preds = logit.max(dim=1)[1] \n",
        "            correct += int((preds == labels).sum()) # 배치 중 맞은 것의 개수가 correct에 누적\n",
        "            total += labels.shape[0] # 배치 사이즈만큼씩 total에 누적\n",
        "\n",
        "            loss = loss_fn(logit, labels)\n",
        "            valid_loss += loss.item() # tensor에서 값을 꺼내와서, 배치의 loss 평균값을 valid_loss에 누적\n",
        "\n",
        "        valid_accuracy = correct / total\n",
        "  \n",
        "    return valid_loss, valid_accuracy"
      ],
      "metadata": {
        "id": "imGxd6tCu8XH"
      },
      "execution_count": 21,
      "outputs": []
    },
    {
      "cell_type": "code",
      "source": [
        "def train_loop(model, trainloader, loss_fn, epochs, optimizer):  \n",
        "    \n",
        "    steps = 0\n",
        "    steps_per_epoch = len(trainloader) \n",
        "    min_loss = 1000000\n",
        "    max_accuracy = 0\n",
        "    trigger = 0\n",
        "    patience = 7 \n",
        "\n",
        "    for epoch in range(epochs):\n",
        "        model.train() # 훈련 모드\n",
        "        train_loss = 0\n",
        "        for images, labels in trainloader: # 이터레이터로부터 next()가 호출되며 미니배치를 반환(images, labels)\n",
        "            steps += 1\n",
        "            # images, labels : (torch.Size([16, 3, 224, 224]), torch.Size([16]))\n",
        "            # 0. Data를 GPU로 보내기\n",
        "            images, labels = images.to(device), labels.to(device)\n",
        " \n",
        "            # 1. 입력 데이터 준비\n",
        "            # not Flatten !!\n",
        "            # images.resize_(images.shape[0], 784) \n",
        "\n",
        "            # 2. 전방향(forward) 예측\n",
        "            predict = model(images) # 예측 점수\n",
        "\n",
        "            loss = loss_fn(predict, labels) # 예측 점수와 정답을 CrossEntropyLoss에 넣어 Loss값 반환\n",
        " \n",
        "            # 3. 역방향(backward) 오차(Gradient) 전파\n",
        "            optimizer.zero_grad() # Gradient가 누적되지 않게 하기 위해\n",
        "            loss.backward() # 모델파리미터들의 Gradient 전파\n",
        "\n",
        "            # 4. 경사 하강법으로 모델 파라미터 업데이트\n",
        "            optimizer.step() # W <- W -lr*Gradient\n",
        "\n",
        "            train_loss += loss.item()\n",
        "            if (steps % steps_per_epoch) == 0 : \n",
        "                model.eval() # 평가 모드 : 평가에서 사용하지 않을 계층(배치 정규화, 드롭아웃)들을 수행하지 않게 하기 위해서\n",
        "                valid_loss, valid_accuracy = validate(model, validloader, loss_fn)\n",
        "\n",
        "\n",
        "                print('Epoch : {}/{}.......'.format(epoch+1, epochs),            \n",
        "                  'Train Loss : {:.3f}'.format(train_loss/len(trainloader)), \n",
        "                  'Valid Loss : {:.3f}'.format(valid_loss/len(validloader)), \n",
        "                  'Valid Accuracy : {:.3f}'.format(valid_accuracy)            \n",
        "                  )\n",
        "\n",
        "                # option 2 : valid_accuracy 모니터링      \n",
        "                if valid_accuracy > max_accuracy : # 바로 이전 epoch의 accuracy보다 크면 저장하기\n",
        "                    max_accuracy = valid_accuracy\n",
        "                    best_model_state = deepcopy(model.state_dict())          \n",
        "                    torch.save(best_model_state, 'best_checkpoint.pth')  \n",
        "                # -------------------------------------------\n",
        "\n",
        "                # Early Stopping (조기 종료)\n",
        "                if valid_loss > min_loss: # valid_loss가 min_loss를 갱신하지 못하면\n",
        "                    trigger += 1\n",
        "                    print('trigger : ', trigger)\n",
        "                    if trigger > patience:\n",
        "                        print('Early Stopping !!!')\n",
        "                        print('Training loop is finished !!')\n",
        "                        return\n",
        "                else:\n",
        "                    trigger = 0\n",
        "                    min_loss = valid_loss\n",
        "                # -------------------------------------------\n",
        "\n",
        "                # Learning Rate Scheduler\n",
        "                scheduler.step(valid_loss)\n",
        "                # -------------------------------------------\n",
        "        \n",
        "    return  "
      ],
      "metadata": {
        "id": "RjoS1m0gu-VT"
      },
      "execution_count": 22,
      "outputs": []
    },
    {
      "cell_type": "code",
      "source": [
        "model = models.alexnet(weights=True)\n",
        "model"
      ],
      "metadata": {
        "colab": {
          "base_uri": "https://localhost:8080/"
        },
        "id": "-eVhS1w-vPpG",
        "outputId": "3e9affc2-0065-4aae-bdf0-569a0e51ddc2"
      },
      "execution_count": 23,
      "outputs": [
        {
          "output_type": "stream",
          "name": "stderr",
          "text": [
            "/usr/local/lib/python3.9/dist-packages/torchvision/models/_utils.py:223: UserWarning: Arguments other than a weight enum or `None` for 'weights' are deprecated since 0.13 and may be removed in the future. The current behavior is equivalent to passing `weights=AlexNet_Weights.IMAGENET1K_V1`. You can also use `weights=AlexNet_Weights.DEFAULT` to get the most up-to-date weights.\n",
            "  warnings.warn(msg)\n",
            "Downloading: \"https://download.pytorch.org/models/alexnet-owt-7be5be79.pth\" to /root/.cache/torch/hub/checkpoints/alexnet-owt-7be5be79.pth\n",
            "100%|██████████| 233M/233M [00:01<00:00, 205MB/s]\n"
          ]
        },
        {
          "output_type": "execute_result",
          "data": {
            "text/plain": [
              "AlexNet(\n",
              "  (features): Sequential(\n",
              "    (0): Conv2d(3, 64, kernel_size=(11, 11), stride=(4, 4), padding=(2, 2))\n",
              "    (1): ReLU(inplace=True)\n",
              "    (2): MaxPool2d(kernel_size=3, stride=2, padding=0, dilation=1, ceil_mode=False)\n",
              "    (3): Conv2d(64, 192, kernel_size=(5, 5), stride=(1, 1), padding=(2, 2))\n",
              "    (4): ReLU(inplace=True)\n",
              "    (5): MaxPool2d(kernel_size=3, stride=2, padding=0, dilation=1, ceil_mode=False)\n",
              "    (6): Conv2d(192, 384, kernel_size=(3, 3), stride=(1, 1), padding=(1, 1))\n",
              "    (7): ReLU(inplace=True)\n",
              "    (8): Conv2d(384, 256, kernel_size=(3, 3), stride=(1, 1), padding=(1, 1))\n",
              "    (9): ReLU(inplace=True)\n",
              "    (10): Conv2d(256, 256, kernel_size=(3, 3), stride=(1, 1), padding=(1, 1))\n",
              "    (11): ReLU(inplace=True)\n",
              "    (12): MaxPool2d(kernel_size=3, stride=2, padding=0, dilation=1, ceil_mode=False)\n",
              "  )\n",
              "  (avgpool): AdaptiveAvgPool2d(output_size=(6, 6))\n",
              "  (classifier): Sequential(\n",
              "    (0): Dropout(p=0.5, inplace=False)\n",
              "    (1): Linear(in_features=9216, out_features=4096, bias=True)\n",
              "    (2): ReLU(inplace=True)\n",
              "    (3): Dropout(p=0.5, inplace=False)\n",
              "    (4): Linear(in_features=4096, out_features=4096, bias=True)\n",
              "    (5): ReLU(inplace=True)\n",
              "    (6): Linear(in_features=4096, out_features=1000, bias=True)\n",
              "  )\n",
              ")"
            ]
          },
          "metadata": {},
          "execution_count": 23
        }
      ]
    },
    {
      "cell_type": "code",
      "source": [
        "for parameter in model.parameters():\n",
        "    parameter.requires_grad = False\n",
        "\n",
        "for parameter in model.classifier.parameters():\n",
        "    parameter.requires_grad = True"
      ],
      "metadata": {
        "id": "z0f2ZVySvRnL"
      },
      "execution_count": 24,
      "outputs": []
    },
    {
      "cell_type": "code",
      "source": [
        "model.classifier"
      ],
      "metadata": {
        "colab": {
          "base_uri": "https://localhost:8080/"
        },
        "id": "L73EUkadvU13",
        "outputId": "64e327dc-1790-4043-ef13-a030b48998cd"
      },
      "execution_count": 25,
      "outputs": [
        {
          "output_type": "execute_result",
          "data": {
            "text/plain": [
              "Sequential(\n",
              "  (0): Dropout(p=0.5, inplace=False)\n",
              "  (1): Linear(in_features=9216, out_features=4096, bias=True)\n",
              "  (2): ReLU(inplace=True)\n",
              "  (3): Dropout(p=0.5, inplace=False)\n",
              "  (4): Linear(in_features=4096, out_features=4096, bias=True)\n",
              "  (5): ReLU(inplace=True)\n",
              "  (6): Linear(in_features=4096, out_features=1000, bias=True)\n",
              ")"
            ]
          },
          "metadata": {},
          "execution_count": 25
        }
      ]
    },
    {
      "cell_type": "code",
      "source": [
        "model.classifier = nn.Sequential(\n",
        "                                    nn.Linear(in_features=9216, out_features=4096, bias=True),\n",
        "                                    nn.ReLU(inplace=True),\n",
        "                                    nn.Dropout(p=0.5, inplace=False),\n",
        "                                    nn.Linear(in_features=4096, out_features=1024, bias=True),\n",
        "                                    nn.ReLU(inplace=True),\n",
        "                                    nn.Dropout(p=0.5, inplace=False),\n",
        "                                    nn.Linear(in_features=1024, out_features=5, bias=True)\n",
        "                                )"
      ],
      "metadata": {
        "id": "nGbt-K5YvWSG"
      },
      "execution_count": 26,
      "outputs": []
    },
    {
      "cell_type": "code",
      "source": [
        "model.to(device)"
      ],
      "metadata": {
        "colab": {
          "base_uri": "https://localhost:8080/"
        },
        "id": "kIC56_-mvX8d",
        "outputId": "fb17590e-cb59-4904-e3b0-f9538918304a"
      },
      "execution_count": 27,
      "outputs": [
        {
          "output_type": "execute_result",
          "data": {
            "text/plain": [
              "AlexNet(\n",
              "  (features): Sequential(\n",
              "    (0): Conv2d(3, 64, kernel_size=(11, 11), stride=(4, 4), padding=(2, 2))\n",
              "    (1): ReLU(inplace=True)\n",
              "    (2): MaxPool2d(kernel_size=3, stride=2, padding=0, dilation=1, ceil_mode=False)\n",
              "    (3): Conv2d(64, 192, kernel_size=(5, 5), stride=(1, 1), padding=(2, 2))\n",
              "    (4): ReLU(inplace=True)\n",
              "    (5): MaxPool2d(kernel_size=3, stride=2, padding=0, dilation=1, ceil_mode=False)\n",
              "    (6): Conv2d(192, 384, kernel_size=(3, 3), stride=(1, 1), padding=(1, 1))\n",
              "    (7): ReLU(inplace=True)\n",
              "    (8): Conv2d(384, 256, kernel_size=(3, 3), stride=(1, 1), padding=(1, 1))\n",
              "    (9): ReLU(inplace=True)\n",
              "    (10): Conv2d(256, 256, kernel_size=(3, 3), stride=(1, 1), padding=(1, 1))\n",
              "    (11): ReLU(inplace=True)\n",
              "    (12): MaxPool2d(kernel_size=3, stride=2, padding=0, dilation=1, ceil_mode=False)\n",
              "  )\n",
              "  (avgpool): AdaptiveAvgPool2d(output_size=(6, 6))\n",
              "  (classifier): Sequential(\n",
              "    (0): Linear(in_features=9216, out_features=4096, bias=True)\n",
              "    (1): ReLU(inplace=True)\n",
              "    (2): Dropout(p=0.5, inplace=False)\n",
              "    (3): Linear(in_features=4096, out_features=1024, bias=True)\n",
              "    (4): ReLU(inplace=True)\n",
              "    (5): Dropout(p=0.5, inplace=False)\n",
              "    (6): Linear(in_features=1024, out_features=5, bias=True)\n",
              "  )\n",
              ")"
            ]
          },
          "metadata": {},
          "execution_count": 27
        }
      ]
    },
    {
      "cell_type": "code",
      "source": [
        "learning_rate = 0.001\n",
        "\n",
        "loss_fn = nn.CrossEntropyLoss()\n",
        "\n",
        "optimizer = optim.Adam(model.parameters(), lr = learning_rate)\n",
        "\n",
        "scheduler = optim.lr_scheduler.ReduceLROnPlateau(optimizer, mode = 'min', factor = 0.1, patience = 4, verbose = True)"
      ],
      "metadata": {
        "id": "3_Sbkm8HvIMq"
      },
      "execution_count": 28,
      "outputs": []
    },
    {
      "cell_type": "code",
      "source": [
        "epochs = 55\n",
        "%time train_loop(model, trainloader, loss_fn, epochs, optimizer)"
      ],
      "metadata": {
        "colab": {
          "base_uri": "https://localhost:8080/"
        },
        "id": "Y6N2tGj1vd1l",
        "outputId": "7215f23b-9866-49fe-fb58-3a4c98bd9b07"
      },
      "execution_count": 29,
      "outputs": [
        {
          "output_type": "stream",
          "name": "stdout",
          "text": [
            "Epoch : 1/55....... Train Loss : 0.903 Valid Loss : 0.658 Valid Accuracy : 0.746\n",
            "Epoch : 2/55....... Train Loss : 0.726 Valid Loss : 0.585 Valid Accuracy : 0.771\n",
            "Epoch : 3/55....... Train Loss : 0.669 Valid Loss : 0.604 Valid Accuracy : 0.757\n",
            "trigger :  1\n",
            "Epoch : 4/55....... Train Loss : 0.607 Valid Loss : 0.585 Valid Accuracy : 0.798\n",
            "Epoch : 5/55....... Train Loss : 0.584 Valid Loss : 0.562 Valid Accuracy : 0.794\n",
            "Epoch : 6/55....... Train Loss : 0.542 Valid Loss : 0.569 Valid Accuracy : 0.798\n",
            "trigger :  1\n",
            "Epoch : 7/55....... Train Loss : 0.534 Valid Loss : 0.563 Valid Accuracy : 0.791\n",
            "trigger :  2\n",
            "Epoch : 8/55....... Train Loss : 0.506 Valid Loss : 0.625 Valid Accuracy : 0.781\n",
            "trigger :  3\n",
            "Epoch : 9/55....... Train Loss : 0.496 Valid Loss : 0.573 Valid Accuracy : 0.772\n",
            "trigger :  4\n",
            "Epoch : 10/55....... Train Loss : 0.469 Valid Loss : 0.563 Valid Accuracy : 0.800\n",
            "trigger :  5\n",
            "Epoch 00010: reducing learning rate of group 0 to 1.0000e-04.\n",
            "Epoch : 11/55....... Train Loss : 0.331 Valid Loss : 0.538 Valid Accuracy : 0.815\n",
            "Epoch : 12/55....... Train Loss : 0.303 Valid Loss : 0.541 Valid Accuracy : 0.814\n",
            "trigger :  1\n",
            "Epoch : 13/55....... Train Loss : 0.296 Valid Loss : 0.547 Valid Accuracy : 0.812\n",
            "trigger :  2\n",
            "Epoch : 14/55....... Train Loss : 0.269 Valid Loss : 0.539 Valid Accuracy : 0.823\n",
            "trigger :  3\n",
            "Epoch : 15/55....... Train Loss : 0.251 Valid Loss : 0.565 Valid Accuracy : 0.816\n",
            "trigger :  4\n",
            "Epoch : 16/55....... Train Loss : 0.249 Valid Loss : 0.553 Valid Accuracy : 0.817\n",
            "trigger :  5\n",
            "Epoch 00016: reducing learning rate of group 0 to 1.0000e-05.\n",
            "Epoch : 17/55....... Train Loss : 0.232 Valid Loss : 0.549 Valid Accuracy : 0.821\n",
            "trigger :  6\n",
            "Epoch : 18/55....... Train Loss : 0.219 Valid Loss : 0.549 Valid Accuracy : 0.821\n",
            "trigger :  7\n",
            "Epoch : 19/55....... Train Loss : 0.222 Valid Loss : 0.558 Valid Accuracy : 0.821\n",
            "trigger :  8\n",
            "Early Stopping !!!\n",
            "Training loop is finished !!\n",
            "CPU times: user 24min 17s, sys: 20.8 s, total: 24min 37s\n",
            "Wall time: 24min 49s\n"
          ]
        }
      ]
    },
    {
      "cell_type": "code",
      "source": [
        "test_iter = iter(testloader)\n",
        "images, labels = next(test_iter)\n",
        "images, labels = images.to(device), labels.to(device)\n",
        "print(images.size(), labels.size())\n",
        "\n",
        "rnd_idx = 1\n",
        "print(images[rnd_idx].shape, labels[rnd_idx])"
      ],
      "metadata": {
        "id": "Xw4xG8Z9vfJE",
        "colab": {
          "base_uri": "https://localhost:8080/"
        },
        "outputId": "b54587e5-6874-40f1-9fa2-25430b5c587f"
      },
      "execution_count": 30,
      "outputs": [
        {
          "output_type": "stream",
          "name": "stdout",
          "text": [
            "torch.Size([16, 3, 224, 224]) torch.Size([16])\n",
            "torch.Size([3, 224, 224]) tensor(0, device='cuda:0')\n"
          ]
        }
      ]
    },
    {
      "cell_type": "code",
      "source": [
        "images[rnd_idx].shape"
      ],
      "metadata": {
        "id": "wyYruHaZ-vQ0",
        "colab": {
          "base_uri": "https://localhost:8080/"
        },
        "outputId": "56660116-1634-4ea0-db1f-ab541f4588dd"
      },
      "execution_count": 31,
      "outputs": [
        {
          "output_type": "execute_result",
          "data": {
            "text/plain": [
              "torch.Size([3, 224, 224])"
            ]
          },
          "metadata": {},
          "execution_count": 31
        }
      ]
    },
    {
      "cell_type": "code",
      "source": [
        "model.eval()\n",
        "with torch.no_grad():\n",
        "    logit = model(images[rnd_idx].unsqueeze(0))\n",
        "\n",
        "pred = logit.max(dim = 1)[1]\n",
        "print(pred == labels[rnd_idx])"
      ],
      "metadata": {
        "id": "7d4jQuft_xFo",
        "colab": {
          "base_uri": "https://localhost:8080/"
        },
        "outputId": "dc509d09-04a6-483b-f8dd-ea2a770871ed"
      },
      "execution_count": 32,
      "outputs": [
        {
          "output_type": "stream",
          "name": "stdout",
          "text": [
            "tensor([True], device='cuda:0')\n"
          ]
        }
      ]
    },
    {
      "cell_type": "code",
      "source": [
        "print(\"pred : \", pred, \"labels : \", labels[rnd_idx])\n",
        "print(labels_map[pred.cpu().item()], labels_map[labels[rnd_idx].cpu().item()])\n",
        "plt.imshow(images[rnd_idx].permute(1, 2, 0).cpu())"
      ],
      "metadata": {
        "id": "lXB4TqkGA-MC",
        "colab": {
          "base_uri": "https://localhost:8080/",
          "height": 488
        },
        "outputId": "63c54bae-156c-40f4-813b-a2a5964af596"
      },
      "execution_count": 33,
      "outputs": [
        {
          "output_type": "stream",
          "name": "stdout",
          "text": [
            "pred :  tensor([0], device='cuda:0') labels :  tensor(0, device='cuda:0')\n",
            "cloudy cloudy\n"
          ]
        },
        {
          "output_type": "execute_result",
          "data": {
            "text/plain": [
              "<matplotlib.image.AxesImage at 0x7fad202d2fd0>"
            ]
          },
          "metadata": {},
          "execution_count": 33
        },
        {
          "output_type": "display_data",
          "data": {
            "text/plain": [
              "<Figure size 640x480 with 1 Axes>"
            ],
            "image/png": "[encoded data removed]"
          },
          "metadata": {}
        }
      ]
    },
    {
      "cell_type": "code",
      "source": [
        "def evaluation(model, testloader, loss_fn):\n",
        "  total = 0   \n",
        "  correct = 0\n",
        "  test_loss = 0\n",
        "  test_accuracy = 0\n",
        "\n",
        "  # 전방향 예측을 구할 때는 gradient가 필요가 없음음\n",
        "  with torch.no_grad():\n",
        "    for images, labels in testloader: # 이터레이터로부터 next()가 호출되며 미니배치를 반환(images, labels)\n",
        "      # 0. Data를 GPU로 보내기\n",
        "      images, labels = images.to(device), labels.to(device)\n",
        "\n",
        "      # 1. 입력 데이터 준비\n",
        "      # not Flatten\n",
        "      # images.resize_(images.size()[0], 784)\n",
        "      \n",
        "      # 2. 전방향(Forward) 예측\n",
        "      logit = model(images) # 예측 점수\n",
        "      _, preds = torch.max(logit, 1) # 배치에 대한 최종 예측\n",
        "      # preds = logit.max(dim=1)[1] \n",
        "      correct += int((preds == labels).sum()) # 배치치 중 맞은 것의 개수가 correct에 누적\n",
        "      total += labels.shape[0] # 배치 사이즈만큼씩 total에 누적\n",
        "\n",
        "      loss = loss_fn(logit, labels)\n",
        "      test_loss += loss.item() # tensor에서 값을 꺼내와서, 배치의 loss 평균값을 valid_loss에 누적\n",
        "\n",
        "    test_accuracy = correct / total\n",
        "   \n",
        "  print('Test Loss : {:.3f}'.format(test_loss/len(testloader)), \n",
        "        'Test Accuracy : {:.3f}'.format(test_accuracy))\n",
        "\n",
        "model.eval()\n",
        "evaluation(model, testloader, loss_fn)  "
      ],
      "metadata": {
        "id": "rh57gX9BBVxR",
        "colab": {
          "base_uri": "https://localhost:8080/"
        },
        "outputId": "f3fd6a9c-ce06-4078-af64-e69f6994bfe6"
      },
      "execution_count": 34,
      "outputs": [
        {
          "output_type": "stream",
          "name": "stdout",
          "text": [
            "Test Loss : 0.552 Test Accuracy : 0.818\n"
          ]
        }
      ]
    },
    {
      "cell_type": "code",
      "source": [
        "# 현재 모델에 저장되어 있는 모델 파라미터터\n",
        "model.state_dict().keys()"
      ],
      "metadata": {
        "id": "oHf5aKzHBfsg",
        "colab": {
          "base_uri": "https://localhost:8080/"
        },
        "outputId": "9346d179-724c-423c-878c-fce07050325b"
      },
      "execution_count": 36,
      "outputs": [
        {
          "output_type": "execute_result",
          "data": {
            "text/plain": [
              "odict_keys(['features.0.weight', 'features.0.bias', 'features.3.weight', 'features.3.bias', 'features.6.weight', 'features.6.bias', 'features.8.weight', 'features.8.bias', 'features.10.weight', 'features.10.bias', 'classifier.0.weight', 'classifier.0.bias', 'classifier.3.weight', 'classifier.3.bias', 'classifier.6.weight', 'classifier.6.bias'])"
            ]
          },
          "metadata": {},
          "execution_count": 36
        }
      ]
    },
    {
      "cell_type": "code",
      "source": [
        "torch.save(model.state_dict(), 'last_checkpoint.pth')"
      ],
      "metadata": {
        "id": "unkzdtwCk64C"
      },
      "execution_count": 37,
      "outputs": []
    },
    {
      "cell_type": "code",
      "source": [
        "# 시간이 흐른뒤 다시 모델 가져오기\n",
        "last_state_dict = torch.load('last_checkpoint.pth')"
      ],
      "metadata": {
        "id": "UPtyU6e_elZU"
      },
      "execution_count": null,
      "outputs": []
    },
    {
      "cell_type": "code",
      "source": [
        "last_state_dict.keys()"
      ],
      "metadata": {
        "id": "aU_BVeHne168",
        "colab": {
          "base_uri": "https://localhost:8080/"
        },
        "outputId": "e53de7bc-6fc7-409e-a80b-7272f2379e20"
      },
      "execution_count": null,
      "outputs": [
        {
          "output_type": "execute_result",
          "data": {
            "text/plain": [
              "odict_keys(['features.0.weight', 'features.0.bias', 'features.1.weight', 'features.1.bias', 'features.1.running_mean', 'features.1.running_var', 'features.1.num_batches_tracked', 'features.3.weight', 'features.3.bias', 'features.4.weight', 'features.4.bias', 'features.4.running_mean', 'features.4.running_var', 'features.4.num_batches_tracked', 'features.7.weight', 'features.7.bias', 'features.8.weight', 'features.8.bias', 'features.8.running_mean', 'features.8.running_var', 'features.8.num_batches_tracked', 'features.10.weight', 'features.10.bias', 'features.11.weight', 'features.11.bias', 'features.11.running_mean', 'features.11.running_var', 'features.11.num_batches_tracked', 'features.14.weight', 'features.14.bias', 'features.15.weight', 'features.15.bias', 'features.15.running_mean', 'features.15.running_var', 'features.15.num_batches_tracked', 'features.17.weight', 'features.17.bias', 'features.18.weight', 'features.18.bias', 'features.18.running_mean', 'features.18.running_var', 'features.18.num_batches_tracked', 'features.20.weight', 'features.20.bias', 'features.21.weight', 'features.21.bias', 'features.21.running_mean', 'features.21.running_var', 'features.21.num_batches_tracked', 'features.24.weight', 'features.24.bias', 'features.25.weight', 'features.25.bias', 'features.25.running_mean', 'features.25.running_var', 'features.25.num_batches_tracked', 'features.27.weight', 'features.27.bias', 'features.28.weight', 'features.28.bias', 'features.28.running_mean', 'features.28.running_var', 'features.28.num_batches_tracked', 'features.30.weight', 'features.30.bias', 'features.31.weight', 'features.31.bias', 'features.31.running_mean', 'features.31.running_var', 'features.31.num_batches_tracked', 'features.34.weight', 'features.34.bias', 'features.35.weight', 'features.35.bias', 'features.35.running_mean', 'features.35.running_var', 'features.35.num_batches_tracked', 'features.37.weight', 'features.37.bias', 'features.38.weight', 'features.38.bias', 'features.38.running_mean', 'features.38.running_var', 'features.38.num_batches_tracked', 'features.40.weight', 'features.40.bias', 'features.41.weight', 'features.41.bias', 'features.41.running_mean', 'features.41.running_var', 'features.41.num_batches_tracked', 'classifier.0.weight', 'classifier.0.bias', 'classifier.3.weight', 'classifier.3.bias', 'classifier.6.weight', 'classifier.6.bias'])"
            ]
          },
          "metadata": {},
          "execution_count": 102
        }
      ]
    },
    {
      "cell_type": "code",
      "source": [
        "# 읽어들인 모델 파라미터는 모델 아키텍처에 연결을 시켜줘야 함\n",
        "# load_state_dict() 사용\n",
        "last_model = model\n",
        "last_model.to(device)\n",
        "last_model.load_state_dict(last_state_dict)"
      ],
      "metadata": {
        "colab": {
          "base_uri": "https://localhost:8080/"
        },
        "id": "PETgjZf3e3Kr",
        "outputId": "2c520fe2-b7db-43d6-8291-d46d754c1648"
      },
      "execution_count": null,
      "outputs": [
        {
          "output_type": "execute_result",
          "data": {
            "text/plain": [
              "<All keys matched successfully>"
            ]
          },
          "metadata": {},
          "execution_count": 105
        }
      ]
    },
    {
      "cell_type": "code",
      "source": [
        "last_model.eval()\n",
        "evaluation(last_model, testloader, loss_fn)  "
      ],
      "metadata": {
        "colab": {
          "base_uri": "https://localhost:8080/"
        },
        "id": "54H6Fny5fTFk",
        "outputId": "dfdd7887-1fdf-4e77-91bb-4f9839aac9ea"
      },
      "execution_count": null,
      "outputs": [
        {
          "output_type": "stream",
          "name": "stdout",
          "text": [
            "Test Loss : 0.091 Test Accuracy : 0.980\n"
          ]
        }
      ]
    },
    {
      "cell_type": "code",
      "source": [
        "# valid loss or accuracy 기준 best model\n",
        "best_state_dict = torch.load('best_checkpoint.pth')\n",
        "best_model = model\n",
        "best_model.to(device)\n",
        "best_model.load_state_dict(best_state_dict)"
      ],
      "metadata": {
        "colab": {
          "base_uri": "https://localhost:8080/"
        },
        "id": "5GtKgu4Bfv8N",
        "outputId": "f5ac0e21-9829-4c3b-d407-f7e76382f07f"
      },
      "execution_count": null,
      "outputs": [
        {
          "output_type": "execute_result",
          "data": {
            "text/plain": [
              "<All keys matched successfully>"
            ]
          },
          "metadata": {},
          "execution_count": 107
        }
      ]
    },
    {
      "cell_type": "code",
      "source": [
        "best_model.eval()\n",
        "evaluation(best_model, testloader, loss_fn)"
      ],
      "metadata": {
        "colab": {
          "base_uri": "https://localhost:8080/"
        },
        "id": "aM9vhUn2jDo4",
        "outputId": "a9d0f830-eba8-47f8-f986-65eac1976f7d"
      },
      "execution_count": null,
      "outputs": [
        {
          "output_type": "stream",
          "name": "stdout",
          "text": [
            "Test Loss : 0.062 Test Accuracy : 0.985\n"
          ]
        }
      ]
    },
    {
      "cell_type": "code",
      "source": [
        "#best_state_dict['conv_block1.0.weight']"
      ],
      "metadata": {
        "id": "NZF0kP2zqUk2"
      },
      "execution_count": null,
      "outputs": []
    },
    {
      "cell_type": "code",
      "source": [
        "#last_state_dict['conv_block1.0.weight']"
      ],
      "metadata": {
        "id": "ojxZutnDz92b"
      },
      "execution_count": null,
      "outputs": []
    }
  ]
}